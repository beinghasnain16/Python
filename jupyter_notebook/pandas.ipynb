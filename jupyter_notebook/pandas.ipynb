{
 "cells": [
  {
   "cell_type": "markdown",
   "metadata": {},
   "source": [
    "# Pandas"
   ]
  },
  {
   "cell_type": "code",
   "execution_count": 21,
   "metadata": {},
   "outputs": [],
   "source": [
    "import pandas as pd"
   ]
  },
  {
   "cell_type": "code",
   "execution_count": 24,
   "metadata": {},
   "outputs": [
    {
     "name": "stdout",
     "output_type": "stream",
     "text": [
      "Eggs       12\n",
      "Milk       No\n",
      "Bread     Yes\n",
      "Apples      5\n",
      "dtype: object\n",
      "(4,)\n",
      "4\n",
      "1\n",
      "The labels in groceries are:  Index(['Eggs', 'Milk', 'Bread', 'Apples'], dtype='object')\n",
      "Tha data in groceries is:  [12 'No' 'Yes' 5]\n",
      "False\n",
      "True\n"
     ]
    }
   ],
   "source": [
    "groceries = pd.Series(index = [\"Eggs\",\"Milk\",\"Bread\",\"Apples\"], data = [12,\"No\",\"Yes\",5])\n",
    "print(groceries)\n",
    "print(groceries.shape)\n",
    "print(groceries.size)\n",
    "print(groceries.ndim)\n",
    "print(\"The labels in groceries are: \",groceries.index)\n",
    "print(\"Tha data in groceries is: \",groceries.values)\n",
    "print(\"banana\" in groceries)\n",
    "print(\"Bread\" in groceries)"
   ]
  },
  {
   "cell_type": "code",
   "execution_count": 25,
   "metadata": {},
   "outputs": [
    {
     "name": "stdout",
     "output_type": "stream",
     "text": [
      "12 12\n",
      "Milk      No\n",
      "Bread    Yes\n",
      "dtype: object Milk      No\n",
      "Bread    Yes\n",
      "dtype: object\n",
      "Apples    5\n",
      "dtype: object\n",
      "Apples    5\n",
      "dtype: object\n",
      "Eggs        6\n",
      "Milk       No\n",
      "Bread     Yes\n",
      "Apples      5\n",
      "dtype: object\n",
      "Eggs        6\n",
      "Bread     Yes\n",
      "Apples      5\n",
      "dtype: object\n"
     ]
    }
   ],
   "source": [
    "print(groceries[0],groceries[\"Eggs\"])\n",
    "print(groceries[[1,2]],groceries[[\"Milk\",\"Bread\"]])\n",
    "print(groceries.iloc[[-1]])\n",
    "print(groceries.loc[[\"Apples\"]])\n",
    "groceries[\"Eggs\"] = 6\n",
    "groceries.drop(\"Milk\")\n",
    "print(groceries)\n",
    "groceries.drop(\"Milk\",inplace=True)\n",
    "print(groceries)"
   ]
  },
  {
   "cell_type": "code",
   "execution_count": null,
   "metadata": {},
   "outputs": [],
   "source": [
    "i"
   ]
  }
 ],
 "metadata": {
  "kernelspec": {
   "display_name": "Python [conda env:py3] *",
   "language": "python",
   "name": "conda-env-py3-py"
  },
  "language_info": {
   "codemirror_mode": {
    "name": "ipython",
    "version": 3
   },
   "file_extension": ".py",
   "mimetype": "text/x-python",
   "name": "python",
   "nbconvert_exporter": "python",
   "pygments_lexer": "ipython3",
   "version": "3.7.7"
  }
 },
 "nbformat": 4,
 "nbformat_minor": 4
}
